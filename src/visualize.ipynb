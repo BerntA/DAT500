{
 "cells": [
  {
   "cell_type": "code",
   "execution_count": 1,
   "metadata": {},
   "outputs": [],
   "source": [
    "%matplotlib inline\n",
    "\n",
    "import numpy as np\n",
    "import pandas as pd\n",
    "import geopandas as gpd\n",
    "import matplotlib.pyplot as plt\n",
    "import geoplot\n",
    "import mapclassify\n",
    "from IPython.display import HTML\n",
    "from collections import Counter"
   ]
  },
  {
   "cell_type": "markdown",
   "metadata": {},
   "source": [
    "### Load Geo Shape Data"
   ]
  },
  {
   "cell_type": "code",
   "execution_count": 2,
   "metadata": {},
   "outputs": [],
   "source": [
    "df_municipalities = gpd.read_file('shape/municipalities_2018.geojson')"
   ]
  },
  {
   "cell_type": "code",
   "execution_count": 3,
   "metadata": {},
   "outputs": [],
   "source": [
    "# Get shape coordinates for drawing labels\n",
    "df_municipalities['coords'] = df_municipalities['geometry'].apply(lambda x: x.representative_point().coords[:])\n",
    "df_municipalities['coords'] = [coords[0] for coords in df_municipalities['coords']]\n",
    "\n",
    "# Fix some municipalities (faulty names), add a new column with fixed names so they work with census municipalities.\n",
    "\n",
    "CONVERT = {\n",
    "    # Municipality numbers -> fixed names\n",
    "    '821':'Bø (Telemark)',\n",
    "    '236':'Nes (Akershus)',\n",
    "    '616':'Nes (Buskerud)',\n",
    "    '137':'Våler (Østfold)',\n",
    "    '426':'Våler (Innlandet)',\n",
    "    '1867':'Bø (Nordland)',\n",
    "    '441':'Os (Innlandet)',\n",
    "    '1243':'Os (Hordaland)',\n",
    "    '713':'Sande (Vestfold)',\n",
    "    '1514':'Sande (Møre og Romsdal)',\n",
    "    \n",
    "    # Municipality names -> fixed names\n",
    "    'Guovdageaidnu - Kautokeino':'Kautokeino - Guovdageainnu suohkan',\n",
    "    'Kárásjohka - Karasjok':'Karasjok - Kárásjoga gielda',\n",
    "    'Unjárga - Nesseby':'Nesseby - Unjárgga gielda',\n",
    "    'Deatnu Tana':'Tana - Deanu gielda',\n",
    "    'Porsanger - Porsángu - Porsanki':'Porsanger - Porsánjggu gielda - Porsangin komuuni',\n",
    "    'Snåase - Snåsa':'Snåsa - Snåasen tjielte',\n",
    "    'Fauske - Fuossko':'Fauske',\n",
    "    'Loabák - Lavangen':'Lavangen',\n",
    "    'Hamarøy - Hábmer':'Hamarøy',\n",
    "    'Divtasvuodna - Tysfjord':'Hamarøy',\n",
    "    'Storfjord - Omasvuotna - Omasvuo':'Lyngen',\n",
    "    'Gáivuotna - Kåfjord - Kaivuono':'Lyngen',\n",
    "    'Snillfjord':'Hitra',\n",
    "    'Båtsfjord':'Vardø',\n",
    "    'Fedje':'Austrheim',\n",
    "    'Utsira':'Karmøy',\n",
    "    'Rælingen':'Fet',\n",
    "    'Sula':'Ålesund',\n",
    "    'Midsund':'Aukra',\n",
    "}\n",
    "\n",
    "municipalityNamesUpdated = []\n",
    "for n, m in zip(df_municipalities.loc[:,'Kommunenum'], df_municipalities.loc[:,'Kommunenav']):\n",
    "    if str(n) in CONVERT:\n",
    "        m = CONVERT[str(n)]\n",
    "    elif str(m) in CONVERT:\n",
    "        m = CONVERT[str(m)]\n",
    "    municipalityNamesUpdated.append(m)\n",
    "\n",
    "df_municipalities['Municipality'] = municipalityNamesUpdated"
   ]
  },
  {
   "cell_type": "code",
   "execution_count": 33,
   "metadata": {},
   "outputs": [],
   "source": [
    "MUNICIPALITIES = set(df_municipalities.Municipality)\n",
    "MUNICIPALITIES_IDX = { m:i for i, m in enumerate(df_municipalities.Municipality) }"
   ]
  },
  {
   "cell_type": "markdown",
   "metadata": {},
   "source": [
    "### Methods for Visualizing"
   ]
  },
  {
   "cell_type": "code",
   "execution_count": 34,
   "metadata": {},
   "outputs": [],
   "source": [
    "def visualize(data, values, title='', cat=False, figPath=None, dontShow=False):\n",
    "    plt.rcParams['figure.figsize'] = (95, 30) # Fix figure size!\n",
    "    \n",
    "    if dontShow:\n",
    "        plt.ioff()\n",
    "    \n",
    "    ax = data.plot(\n",
    "        column=values, \n",
    "        cmap='Reds', \n",
    "        legend=True, \n",
    "        vmin=0.0, \n",
    "        vmax=(np.ceil(values[values.nonzero()].mean()) if (cat == False) else len(set(values))), \n",
    "        categorical=cat\n",
    "    )\n",
    "    \n",
    "    # Draw municipality labels\n",
    "    #for _, row in data.iterrows():\n",
    "        #ax.annotate(s=row['Kommunenav'].upper(), xy=row['coords'], horizontalalignment='center', verticalalignment='center', color='green', alpha=0.95)\n",
    "        \n",
    "    ax.get_xaxis().set_visible(False)\n",
    "    ax.get_yaxis().set_visible(False) \n",
    "    ax.set_title(title)\n",
    "    \n",
    "    if figPath:\n",
    "        plt.savefig('img/{}.png'.format(figPath), transparent=False, bbox_inches='tight')\n",
    "        \n",
    "    if dontShow:\n",
    "        plt.close()\n"
   ]
  },
  {
   "cell_type": "markdown",
   "metadata": {},
   "source": [
    "### Visualizing births from 1800 to 1900"
   ]
  },
  {
   "cell_type": "code",
   "execution_count": 26,
   "metadata": {
    "scrolled": false
   },
   "outputs": [
    {
     "data": {
      "text/html": [
       "<div>\n",
       "<style scoped>\n",
       "    .dataframe tbody tr th:only-of-type {\n",
       "        vertical-align: middle;\n",
       "    }\n",
       "\n",
       "    .dataframe tbody tr th {\n",
       "        vertical-align: top;\n",
       "    }\n",
       "\n",
       "    .dataframe thead th {\n",
       "        text-align: right;\n",
       "    }\n",
       "</style>\n",
       "<table border=\"1\" class=\"dataframe\">\n",
       "  <thead>\n",
       "    <tr style=\"text-align: right;\">\n",
       "      <th></th>\n",
       "      <th>Year</th>\n",
       "      <th>Municipality</th>\n",
       "      <th>Births</th>\n",
       "    </tr>\n",
       "  </thead>\n",
       "  <tbody>\n",
       "    <tr>\n",
       "      <td>2</td>\n",
       "      <td>1661</td>\n",
       "      <td>Larvik</td>\n",
       "      <td>1</td>\n",
       "    </tr>\n",
       "    <tr>\n",
       "      <td>3</td>\n",
       "      <td>1661</td>\n",
       "      <td>Vestby</td>\n",
       "      <td>1</td>\n",
       "    </tr>\n",
       "    <tr>\n",
       "      <td>4</td>\n",
       "      <td>1662</td>\n",
       "      <td>Skien</td>\n",
       "      <td>1</td>\n",
       "    </tr>\n",
       "    <tr>\n",
       "      <td>5</td>\n",
       "      <td>1662</td>\n",
       "      <td>Vik</td>\n",
       "      <td>1</td>\n",
       "    </tr>\n",
       "    <tr>\n",
       "      <td>6</td>\n",
       "      <td>1663</td>\n",
       "      <td>Malvik</td>\n",
       "      <td>1</td>\n",
       "    </tr>\n",
       "  </tbody>\n",
       "</table>\n",
       "</div>"
      ],
      "text/plain": [
       "   Year Municipality  Births\n",
       "2  1661       Larvik       1\n",
       "3  1661       Vestby       1\n",
       "4  1662        Skien       1\n",
       "5  1662          Vik       1\n",
       "6  1663       Malvik       1"
      ]
     },
     "execution_count": 26,
     "metadata": {},
     "output_type": "execute_result"
    }
   ],
   "source": [
    "df_births = pd.read_csv('data/census_births.csv', encoding='utf-8', names=['Year', 'Municipality', 'Births'])\n",
    "df_births.drop([i for i in range(len(df_births)) if str(df_births.loc[i,'Municipality']).title() not in MUNICIPALITIES], inplace=True) # Remove invalid municips.\n",
    "df_births.head()"
   ]
  },
  {
   "cell_type": "code",
   "execution_count": 54,
   "metadata": {},
   "outputs": [],
   "source": [
    "def animatePopulationOverTime(df, year_start, year_end, display=False):\n",
    "    years_of_interest = sorted([int(year) for year in set(df.Year) if year is not '?' and int(year) >= year_start and int(year) <= year_end])\n",
    "    data = np.zeros((len(years_of_interest), len(df_municipalities)), dtype=np.uint64) # A matrix containing the births for the given year (row) in the respective municipalities (column)\n",
    "        \n",
    "    for i, year in enumerate(years_of_interest):\n",
    "        records = df.loc[df.Year == str(year)]\n",
    "        for m, c in zip(records.Municipality, records.Births):\n",
    "            data[i,MUNICIPALITIES_IDX[m]] += c\n",
    "    \n",
    "    for i, population in enumerate(data.cumsum(axis=0)):\n",
    "        year = years_of_interest[i]\n",
    "        visualize(df_municipalities, population, '{}'.format(year), False, 'birth_{}'.format(year), not display)\n",
    "        print(\"Visualized\", year, '!')\n",
    "\n",
    "#animatePopulationOverTime(df_births, 1800, 1900)"
   ]
  },
  {
   "cell_type": "code",
   "execution_count": 55,
   "metadata": {},
   "outputs": [
    {
     "data": {
      "text/html": [
       "<img src=\"img/1800_1900_anim.gif\">"
      ],
      "text/plain": [
       "<IPython.core.display.HTML object>"
      ]
     },
     "execution_count": 55,
     "metadata": {},
     "output_type": "execute_result"
    }
   ],
   "source": [
    "HTML('<img src=\"img/1800_1900_anim.gif\">')"
   ]
  },
  {
   "cell_type": "code",
   "execution_count": null,
   "metadata": {},
   "outputs": [],
   "source": []
  }
 ],
 "metadata": {
  "kernelspec": {
   "display_name": "Python 3",
   "language": "python",
   "name": "python3"
  },
  "language_info": {
   "codemirror_mode": {
    "name": "ipython",
    "version": 3
   },
   "file_extension": ".py",
   "mimetype": "text/x-python",
   "name": "python",
   "nbconvert_exporter": "python",
   "pygments_lexer": "ipython3",
   "version": "3.7.4"
  }
 },
 "nbformat": 4,
 "nbformat_minor": 2
}
